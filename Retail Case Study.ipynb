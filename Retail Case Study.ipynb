{
 "cells": [
  {
   "cell_type": "markdown",
   "id": "0d882c97-f6a4-4ccf-b446-7065981c22e4",
   "metadata": {},
   "source": [
    "# Retail Case Study Data\n",
    "---\n",
    "Datos libres usados para el ejercicio:\n",
    "https://www.kaggle.com/datasets/darpan25bajaj/retail-case-study-data"
   ]
  },
  {
   "cell_type": "code",
   "execution_count": 1,
   "id": "e81c87c9-90b2-4760-86fa-9782b459ac70",
   "metadata": {
    "tags": []
   },
   "outputs": [],
   "source": [
    "# import pyspark.pandas as pypd\n",
    "#El tipo de dataframe que se genera con base en esta función permite distrbuir el procesamiento y aprovechar la ventaja de Spark.\n",
    "from pyspark.sql import SparkSession\n",
    "from pyspark.sql.functions import *\n",
    "import warnings\n",
    "warnings.filterwarnings(\"ignore\")"
   ]
  },
  {
   "cell_type": "code",
   "execution_count": 2,
   "id": "8f68579c",
   "metadata": {
    "tags": []
   },
   "outputs": [],
   "source": [
    "spark = SparkSession.builder.appName(\"3B_Test\").getOrCreate()"
   ]
  },
  {
   "cell_type": "code",
   "execution_count": 3,
   "id": "dc79fee8",
   "metadata": {},
   "outputs": [],
   "source": [
    "spark.conf.set(\"spark.sql.parquet.int96RebaseModeInWrite\", \"CORRECTED\")\n",
    "spark.conf.set(\"spark.sql.legacy.timeParserPolicy\", \"LEGACY\")"
   ]
  },
  {
   "cell_type": "markdown",
   "id": "a88733f8-c7d9-4289-af21-81180b56facd",
   "metadata": {},
   "source": [
    "# 0.Cargando los datos\n",
    "Tenemos 3 fuentes de datos:\n",
    "- Customer.csv: aquí hay información relacionada con los clientes.\n",
    "- prod_cat_info.csv: este es el catalogo de productos.\n",
    "- Transactions.csv: aquí estan registradas las ventas y hay campos que se pueden usar para unir esta tabla con las dos anteriores"
   ]
  },
  {
   "cell_type": "code",
   "execution_count": 4,
   "id": "9ccb4882",
   "metadata": {},
   "outputs": [
    {
     "name": "stdout",
     "output_type": "stream",
     "text": [
      "+-----------+----------+------+---------+\n",
      "|customer_Id|       DOB|Gender|city_code|\n",
      "+-----------+----------+------+---------+\n",
      "|     268408|02-01-1970|     M|        4|\n",
      "|     269696|07-01-1970|     F|        8|\n",
      "|     268159|08-01-1970|     F|        8|\n",
      "|     270181|10-01-1970|     F|        2|\n",
      "|     268073|11-01-1970|     M|        1|\n",
      "+-----------+----------+------+---------+\n",
      "only showing top 5 rows\n",
      "\n"
     ]
    }
   ],
   "source": [
    "df_customer = spark.read.csv(\"Customer.csv\",header=True)\n",
    "df_customer.show(5)"
   ]
  },
  {
   "cell_type": "code",
   "execution_count": 5,
   "id": "0ee76f14",
   "metadata": {},
   "outputs": [
    {
     "name": "stdout",
     "output_type": "stream",
     "text": [
      "+-------------+--------+-----------------+-----------+\n",
      "|prod_cat_code|prod_cat|prod_sub_cat_code|prod_subcat|\n",
      "+-------------+--------+-----------------+-----------+\n",
      "|            1|Clothing|                4|       Mens|\n",
      "|            1|Clothing|                1|      Women|\n",
      "|            1|Clothing|                3|       Kids|\n",
      "|            2|Footwear|                1|       Mens|\n",
      "|            2|Footwear|                3|      Women|\n",
      "+-------------+--------+-----------------+-----------+\n",
      "only showing top 5 rows\n",
      "\n"
     ]
    }
   ],
   "source": [
    "df_prods = spark.read.csv(\"prod_cat_info.csv\",header=True)\n",
    "df_prods.show(5)"
   ]
  },
  {
   "cell_type": "code",
   "execution_count": 6,
   "id": "4ca12b48",
   "metadata": {},
   "outputs": [
    {
     "name": "stdout",
     "output_type": "stream",
     "text": [
      "+--------------+-------+----------+----------------+-------------+---+-----+-------+---------+----------+\n",
      "|transaction_id|cust_id| tran_date|prod_subcat_code|prod_cat_code|Qty| Rate|    Tax|total_amt|Store_type|\n",
      "+--------------+-------+----------+----------------+-------------+---+-----+-------+---------+----------+\n",
      "|   80712190438| 270351|28-02-2014|               1|            1| -5| -772|  405.3|  -4265.3|    e-Shop|\n",
      "|   29258453508| 270384|27-02-2014|               5|            3| -5|-1497|785.925|-8270.925|    e-Shop|\n",
      "|   51750724947| 273420|24-02-2014|               6|            5| -2| -791| 166.11| -1748.11|  TeleShop|\n",
      "|   93274880719| 271509|24-02-2014|              11|            6| -3|-1363|429.345|-4518.345|    e-Shop|\n",
      "|   51750724947| 273420|23-02-2014|               6|            5| -2| -791| 166.11| -1748.11|  TeleShop|\n",
      "+--------------+-------+----------+----------------+-------------+---+-----+-------+---------+----------+\n",
      "only showing top 5 rows\n",
      "\n"
     ]
    }
   ],
   "source": [
    "df_transactions = spark.read.csv(\"Transactions.csv\",header=True)\n",
    "df_transactions.show(5)"
   ]
  },
  {
   "cell_type": "markdown",
   "id": "109d357b-1010-4462-9638-067c9cac0579",
   "metadata": {},
   "source": [
    "## 1.Limpieza de Datos"
   ]
  },
  {
   "cell_type": "markdown",
   "id": "02331dc2-2f09-4523-8ebd-d0476b55e11b",
   "metadata": {},
   "source": [
    "#### 1.1 Valores Nulos"
   ]
  },
  {
   "cell_type": "code",
   "execution_count": 7,
   "id": "9688658f",
   "metadata": {},
   "outputs": [
    {
     "name": "stdout",
     "output_type": "stream",
     "text": [
      "+-----------+---+------+---------+\n",
      "|customer_Id|DOB|Gender|city_code|\n",
      "+-----------+---+------+---------+\n",
      "|          0|  0|     2|        2|\n",
      "+-----------+---+------+---------+\n",
      "\n"
     ]
    }
   ],
   "source": [
    "df_customer.select([count(when(isnan(c) | col(c).isNull(), c)).alias(c) for c in df_customer.columns]).show()"
   ]
  },
  {
   "cell_type": "code",
   "execution_count": 8,
   "id": "2d07fae1",
   "metadata": {},
   "outputs": [
    {
     "name": "stdout",
     "output_type": "stream",
     "text": [
      "+-----------+----------+------+---------+\n",
      "|customer_Id|       DOB|Gender|city_code|\n",
      "+-----------+----------+------+---------+\n",
      "|     268447|14-07-1970|     M|     null|\n",
      "|     268709|09-09-1970|     F|     null|\n",
      "+-----------+----------+------+---------+\n",
      "\n",
      "+-----------+----------+------+---------+\n",
      "|customer_Id|       DOB|Gender|city_code|\n",
      "+-----------+----------+------+---------+\n",
      "|     267199|14-02-1970|  null|        2|\n",
      "|     271626|02-06-1970|  null|        6|\n",
      "+-----------+----------+------+---------+\n",
      "\n"
     ]
    }
   ],
   "source": [
    "df_customer.where(\"city_code is null\").show()\n",
    "df_customer.where(\"Gender is null\").show()"
   ]
  },
  {
   "cell_type": "markdown",
   "id": "f2d0fbc1-3db9-4579-96db-f70c6ed52c56",
   "metadata": {},
   "source": [
    "Tenemos nulos:\n",
    "- en city_code, 2 valores.\n",
    "- en Gender, 2 valores.\n",
    "\n",
    "Podremos encontrar esos datos?"
   ]
  },
  {
   "cell_type": "code",
   "execution_count": 9,
   "id": "f50f73a7",
   "metadata": {},
   "outputs": [
    {
     "name": "stdout",
     "output_type": "stream",
     "text": [
      "+-----------+----------+------+---------+\n",
      "|customer_Id|       DOB|Gender|city_code|\n",
      "+-----------+----------+------+---------+\n",
      "|     267199|14-02-1970|  null|        2|\n",
      "|     271626|02-06-1970|  null|        6|\n",
      "|     268447|14-07-1970|     M|     null|\n",
      "|     268709|09-09-1970|     F|     null|\n",
      "+-----------+----------+------+---------+\n",
      "\n"
     ]
    }
   ],
   "source": [
    "df_customer.where(\"customer_Id in (268447,268709,267199,271626)\").show()"
   ]
  },
  {
   "cell_type": "markdown",
   "id": "63d9fb43-8d9f-4be2-a49a-adc33a589e33",
   "metadata": {},
   "source": [
    "No, los registros en esta tabla son únicos, algo que es lo correcto.\n",
    "Podría eliminar estos registros nulos, sin embargo, no lo haré pero tendré en cuenta esto al momento de generar futuros análisis. Aún así, los 4 customers si tienen DOB (Date of birth) entonces pueden seguir siendo útiles para otro tipo de análisis."
   ]
  },
  {
   "cell_type": "code",
   "execution_count": 10,
   "id": "657c05c5-86ce-4645-a8d3-7467608f15e5",
   "metadata": {},
   "outputs": [
    {
     "name": "stdout",
     "output_type": "stream",
     "text": [
      "+-------------+--------+-----------------+-----------+\n",
      "|prod_cat_code|prod_cat|prod_sub_cat_code|prod_subcat|\n",
      "+-------------+--------+-----------------+-----------+\n",
      "|            0|       0|                0|          0|\n",
      "+-------------+--------+-----------------+-----------+\n",
      "\n"
     ]
    }
   ],
   "source": [
    "df_prods.select([count(when(isnan(c) | col(c).isNull(), c)).alias(c) for c in df_prods.columns]).show()\n",
    "# No hay nulos!"
   ]
  },
  {
   "cell_type": "code",
   "execution_count": 11,
   "id": "ec50e817-1172-4ded-8eb6-209887bd558d",
   "metadata": {},
   "outputs": [
    {
     "name": "stdout",
     "output_type": "stream",
     "text": [
      "+--------------+-------+---------+----------------+-------------+---+----+---+---------+----------+\n",
      "|transaction_id|cust_id|tran_date|prod_subcat_code|prod_cat_code|Qty|Rate|Tax|total_amt|Store_type|\n",
      "+--------------+-------+---------+----------------+-------------+---+----+---+---------+----------+\n",
      "|             0|      0|        0|               0|            0|  0|   0|  0|        0|         0|\n",
      "+--------------+-------+---------+----------------+-------------+---+----+---+---------+----------+\n",
      "\n"
     ]
    }
   ],
   "source": [
    "df_transactions.select([count(when(isnan(c) | col(c).isNull(), c)).alias(c) for c in df_transactions.columns]).show()\n",
    "# No hay nulos!"
   ]
  },
  {
   "cell_type": "markdown",
   "id": "d1d13171-ef1f-4d08-9f40-62ac221bebd3",
   "metadata": {},
   "source": [
    "#### 1.2 Tipos de datos"
   ]
  },
  {
   "cell_type": "code",
   "execution_count": 12,
   "id": "5406b72c-06d8-467c-93b0-fa99d433bd12",
   "metadata": {},
   "outputs": [
    {
     "name": "stdout",
     "output_type": "stream",
     "text": [
      "root\n",
      " |-- customer_Id: string (nullable = true)\n",
      " |-- DOB: string (nullable = true)\n",
      " |-- Gender: string (nullable = true)\n",
      " |-- city_code: string (nullable = true)\n",
      "\n"
     ]
    }
   ],
   "source": [
    "df_customer.printSchema()\n",
    "# Todo bien, menos el formato de DOB, lo cambiare a un formato de fecha"
   ]
  },
  {
   "cell_type": "code",
   "execution_count": 13,
   "id": "e897f167",
   "metadata": {},
   "outputs": [
    {
     "name": "stdout",
     "output_type": "stream",
     "text": [
      "+----------+\n",
      "|       DOB|\n",
      "+----------+\n",
      "|02-01-1970|\n",
      "|07-01-1970|\n",
      "|08-01-1970|\n",
      "|10-01-1970|\n",
      "|11-01-1970|\n",
      "|15-01-1970|\n",
      "|15-01-1970|\n",
      "|16-01-1970|\n",
      "|18-01-1970|\n",
      "|21-01-1970|\n",
      "|22-01-1970|\n",
      "|23-01-1970|\n",
      "|25-01-1970|\n",
      "|26-01-1970|\n",
      "|29-01-1970|\n",
      "|29-01-1970|\n",
      "|29-01-1970|\n",
      "|01-02-1970|\n",
      "|01-02-1970|\n",
      "|01-02-1970|\n",
      "+----------+\n",
      "only showing top 20 rows\n",
      "\n"
     ]
    }
   ],
   "source": [
    "df_customer.select(\"DOB\").show()\n",
    "# Transformar a formato estándar: YYYY-MM-DD"
   ]
  },
  {
   "cell_type": "markdown",
   "id": "63c8a996",
   "metadata": {},
   "source": [
    "__1.2.1 Fecha de Nacimiento en Customer__"
   ]
  },
  {
   "cell_type": "code",
   "execution_count": 14,
   "id": "8828931b",
   "metadata": {},
   "outputs": [],
   "source": [
    "df_customer = df_customer.withColumn(\"DOB\", to_date(df_customer.DOB, 'dd-MM-yyyy'))"
   ]
  },
  {
   "cell_type": "code",
   "execution_count": 15,
   "id": "8c49643a",
   "metadata": {},
   "outputs": [
    {
     "name": "stdout",
     "output_type": "stream",
     "text": [
      "+-----------+----------+------+---------+\n",
      "|customer_Id|       DOB|Gender|city_code|\n",
      "+-----------+----------+------+---------+\n",
      "|     268408|1970-01-02|     M|        4|\n",
      "|     269696|1970-01-07|     F|        8|\n",
      "|     268159|1970-01-08|     F|        8|\n",
      "+-----------+----------+------+---------+\n",
      "only showing top 3 rows\n",
      "\n",
      "root\n",
      " |-- customer_Id: string (nullable = true)\n",
      " |-- DOB: date (nullable = true)\n",
      " |-- Gender: string (nullable = true)\n",
      " |-- city_code: string (nullable = true)\n",
      "\n"
     ]
    }
   ],
   "source": [
    "df_customer.show(3)\n",
    "df_customer.printSchema()"
   ]
  },
  {
   "cell_type": "markdown",
   "id": "23a18ad1",
   "metadata": {},
   "source": [
    "__1.2.2 Modificando Valores de Fecha de Nacimiento__\n",
    "- Esto va servir para un análisis posterior."
   ]
  },
  {
   "cell_type": "code",
   "execution_count": 16,
   "id": "06c33972",
   "metadata": {},
   "outputs": [],
   "source": [
    "df_customer = df_customer.withColumn('DOB_New', \n",
    "                       when(col('DOB') < '1975-12-15', '1955-06-15')\n",
    "                       .when(col(\"DOB\") > '1981-06-15', '2007-06-15')\n",
    "                       .otherwise(df_customer.DOB)\n",
    "                      )"
   ]
  },
  {
   "cell_type": "code",
   "execution_count": 17,
   "id": "266c49b7",
   "metadata": {},
   "outputs": [
    {
     "name": "stdout",
     "output_type": "stream",
     "text": [
      "Row(min(DOB_New)='1955-06-15')\n",
      "Row(max(DOB_New)='2007-06-15')\n"
     ]
    }
   ],
   "source": [
    "print(df_customer.agg(min(\"DOB_New\")).head())\n",
    "print(df_customer.agg(max(\"DOB_New\")).head())"
   ]
  },
  {
   "cell_type": "code",
   "execution_count": 18,
   "id": "13bf385f-3500-43b2-9af1-372ab5ad1273",
   "metadata": {},
   "outputs": [
    {
     "name": "stdout",
     "output_type": "stream",
     "text": [
      "root\n",
      " |-- prod_cat_code: string (nullable = true)\n",
      " |-- prod_cat: string (nullable = true)\n",
      " |-- prod_sub_cat_code: string (nullable = true)\n",
      " |-- prod_subcat: string (nullable = true)\n",
      "\n"
     ]
    }
   ],
   "source": [
    "df_prods.printSchema()\n",
    "# Bien, todos strings"
   ]
  },
  {
   "cell_type": "code",
   "execution_count": 19,
   "id": "cfab0204-06da-4d5e-af3a-49629d939289",
   "metadata": {},
   "outputs": [
    {
     "name": "stdout",
     "output_type": "stream",
     "text": [
      "root\n",
      " |-- transaction_id: string (nullable = true)\n",
      " |-- cust_id: string (nullable = true)\n",
      " |-- tran_date: string (nullable = true)\n",
      " |-- prod_subcat_code: string (nullable = true)\n",
      " |-- prod_cat_code: string (nullable = true)\n",
      " |-- Qty: string (nullable = true)\n",
      " |-- Rate: string (nullable = true)\n",
      " |-- Tax: string (nullable = true)\n",
      " |-- total_amt: string (nullable = true)\n",
      " |-- Store_type: string (nullable = true)\n",
      "\n"
     ]
    }
   ],
   "source": [
    "df_transactions.printSchema()\n",
    "# Igual acá con el formato de fecha para tran_date"
   ]
  },
  {
   "cell_type": "markdown",
   "id": "e17fe589",
   "metadata": {},
   "source": [
    "__1.2.3 Fecha de Transacción de Venta__"
   ]
  },
  {
   "cell_type": "code",
   "execution_count": 20,
   "id": "415ae446",
   "metadata": {},
   "outputs": [
    {
     "name": "stdout",
     "output_type": "stream",
     "text": [
      "+----------+\n",
      "| tran_date|\n",
      "+----------+\n",
      "|28-02-2014|\n",
      "|27-02-2014|\n",
      "|24-02-2014|\n",
      "+----------+\n",
      "only showing top 3 rows\n",
      "\n",
      "+----------+\n",
      "| tran_date|\n",
      "+----------+\n",
      "|27-12-2013|\n",
      "|14-01-2013|\n",
      "|  9/1/2013|\n",
      "+----------+\n",
      "only showing top 3 rows\n",
      "\n"
     ]
    }
   ],
   "source": [
    "df_transactions.select(\"tran_date\").show(3)\n",
    "df_transactions.select(\"tran_date\").distinct().show(3)\n",
    "# Acá se puede ver como hay distintos formatos para estos valores."
   ]
  },
  {
   "cell_type": "code",
   "execution_count": 21,
   "id": "5067c55e-451c-4f3e-bd3d-6a6236ac2102",
   "metadata": {},
   "outputs": [
    {
     "name": "stdout",
     "output_type": "stream",
     "text": [
      "+--------------+-------+----------+----------------+-------------+---+-----+-------+---------+----------+\n",
      "|transaction_id|cust_id| tran_date|prod_subcat_code|prod_cat_code|Qty| Rate|    Tax|total_amt|Store_type|\n",
      "+--------------+-------+----------+----------------+-------------+---+-----+-------+---------+----------+\n",
      "|   80712190438| 270351|28-02-2014|               1|            1| -5| -772|  405.3|  -4265.3|    e-Shop|\n",
      "|   29258453508| 270384|27-02-2014|               5|            3| -5|-1497|785.925|-8270.925|    e-Shop|\n",
      "|   51750724947| 273420|24-02-2014|               6|            5| -2| -791| 166.11| -1748.11|  TeleShop|\n",
      "+--------------+-------+----------+----------------+-------------+---+-----+-------+---------+----------+\n",
      "only showing top 3 rows\n",
      "\n",
      "+--------------+-------+----------+----------------+-------------+---+-----+-------+---------+----------+\n",
      "|transaction_id|cust_id| tran_date|prod_subcat_code|prod_cat_code|Qty| Rate|    Tax|total_amt|Store_type|\n",
      "+--------------+-------+----------+----------------+-------------+---+-----+-------+---------+----------+\n",
      "|   80712190438| 270351|2014-02-28|               1|            1| -5| -772|  405.3|  -4265.3|    e-Shop|\n",
      "|   29258453508| 270384|2014-02-27|               5|            3| -5|-1497|785.925|-8270.925|    e-Shop|\n",
      "|   51750724947| 273420|2014-02-24|               6|            5| -2| -791| 166.11| -1748.11|  TeleShop|\n",
      "+--------------+-------+----------+----------------+-------------+---+-----+-------+---------+----------+\n",
      "only showing top 3 rows\n",
      "\n"
     ]
    }
   ],
   "source": [
    "df_transactions.show(3)\n",
    "df_transactions = df_transactions.withColumn(\"tran_date\", regexp_replace(col(\"tran_date\"), \"/\", \"-\"))\n",
    "df_transactions = df_transactions.withColumn(\"tran_date\", to_date(df_transactions.tran_date, 'dd-MM-yyyy'))\n",
    "df_transactions.show(3)"
   ]
  },
  {
   "cell_type": "markdown",
   "id": "c8bf87f1-b491-4a57-ad49-8619be0f0b7c",
   "metadata": {},
   "source": [
    "#### 1.3 Duplicados"
   ]
  },
  {
   "cell_type": "code",
   "execution_count": 22,
   "id": "8bd6f212",
   "metadata": {},
   "outputs": [],
   "source": [
    "df_dict = {\"df_customer\":df_customer,\n",
    "           \"df_prods\":df_prods,\n",
    "           \"df_transactions\":df_transactions\n",
    "}"
   ]
  },
  {
   "cell_type": "code",
   "execution_count": 23,
   "id": "efde347e",
   "metadata": {},
   "outputs": [
    {
     "name": "stdout",
     "output_type": "stream",
     "text": [
      "No se encontraron registros duplicados en el dataframe df_customer muy bien.\n",
      "No se encontraron registros duplicados en el dataframe df_prods muy bien.\n",
      "[WARNING]: Duplicados encontrados en df_transactions revisar.\n"
     ]
    }
   ],
   "source": [
    "counter = 0\n",
    "for df in [df_customer,df_prods,df_transactions]:\n",
    "    if df.count() > df.dropDuplicates(df.columns).count():\n",
    "        print(\"[WARNING]: Duplicados encontrados en\",list(df_dict.keys())[counter], \"revisar.\")\n",
    "    else:\n",
    "        print(\"No se encontraron registros duplicados en el dataframe\", list(df_dict.keys())[counter], \"muy bien.\")\n",
    "    counter += 1"
   ]
  },
  {
   "cell_type": "code",
   "execution_count": 24,
   "id": "43f21c13",
   "metadata": {},
   "outputs": [
    {
     "name": "stdout",
     "output_type": "stream",
     "text": [
      "23053\n",
      "23040\n"
     ]
    }
   ],
   "source": [
    "print(df_transactions.count())\n",
    "df_transactions = df_transactions.dropDuplicates()\n",
    "print(df_transactions.count())"
   ]
  },
  {
   "cell_type": "markdown",
   "id": "d05f90f4",
   "metadata": {},
   "source": [
    "## 2. Nuevas Columnas\n",
    "- Creación de nuevas columnas y transformación de otras."
   ]
  },
  {
   "cell_type": "code",
   "execution_count": 25,
   "id": "ede0bd2d",
   "metadata": {},
   "outputs": [
    {
     "name": "stdout",
     "output_type": "stream",
     "text": [
      "+--------------+-------+----------+----------------+-------------+---+----+-------+---------+----------+\n",
      "|transaction_id|cust_id| tran_date|prod_subcat_code|prod_cat_code|Qty|Rate|    Tax|total_amt|Store_type|\n",
      "+--------------+-------+----------+----------------+-------------+---+----+-------+---------+----------+\n",
      "|   40128462174| 273020|2014-02-03|               1|            2|  2|1362| 286.02|  3010.02|    e-Shop|\n",
      "|   13844622404| 271302|2014-01-11|               3|            1|  2| 923| 193.83|  2039.83|    e-Shop|\n",
      "|   83307796382| 273016|2013-12-21|               6|            5|  5| 481|252.525| 2657.525|    e-Shop|\n",
      "+--------------+-------+----------+----------------+-------------+---+----+-------+---------+----------+\n",
      "only showing top 3 rows\n",
      "\n",
      "+-------------+--------+-----------------+-----------+\n",
      "|prod_cat_code|prod_cat|prod_sub_cat_code|prod_subcat|\n",
      "+-------------+--------+-----------------+-----------+\n",
      "|            1|Clothing|                4|       Mens|\n",
      "|            1|Clothing|                1|      Women|\n",
      "|            1|Clothing|                3|       Kids|\n",
      "+-------------+--------+-----------------+-----------+\n",
      "only showing top 3 rows\n",
      "\n",
      "+-----------+----------+------+---------+----------+\n",
      "|customer_Id|       DOB|Gender|city_code|   DOB_New|\n",
      "+-----------+----------+------+---------+----------+\n",
      "|     268408|1970-01-02|     M|        4|1955-06-15|\n",
      "|     269696|1970-01-07|     F|        8|1955-06-15|\n",
      "|     268159|1970-01-08|     F|        8|1955-06-15|\n",
      "+-----------+----------+------+---------+----------+\n",
      "only showing top 3 rows\n",
      "\n"
     ]
    }
   ],
   "source": [
    "df_transactions.show(3)\n",
    "df_prods.show(3)\n",
    "df_customer.show(3)"
   ]
  },
  {
   "cell_type": "markdown",
   "id": "f65d5f37",
   "metadata": {},
   "source": [
    "### 2.1 Creando columna de Edad y Age_Category:\n",
    "- Utilizare la columna de DOB (fecha de nacimiento) para creear una columna de Edad en la base de datos df_customer.\n",
    "- Esta columna nueva puede servir para segmentar comportamientos entre jovenes y personas de mediana o mayor edad."
   ]
  },
  {
   "cell_type": "markdown",
   "id": "2bfa66d1",
   "metadata": {},
   "source": [
    "__2.1.1 Age__"
   ]
  },
  {
   "cell_type": "code",
   "execution_count": 26,
   "id": "ddb43053",
   "metadata": {},
   "outputs": [],
   "source": [
    "df_customer = df_customer.withColumn('Age', (months_between(current_date(), col('DOB_New')) / 12).cast('int'))"
   ]
  },
  {
   "cell_type": "code",
   "execution_count": 27,
   "id": "cb6e9162",
   "metadata": {},
   "outputs": [
    {
     "data": {
      "text/plain": [
       "([Row(customer_Id='268408', DOB=datetime.date(1970, 1, 2), Gender='M', city_code='4', DOB_New='1955-06-15', Age=68),\n",
       "  Row(customer_Id='269696', DOB=datetime.date(1970, 1, 7), Gender='F', city_code='8', DOB_New='1955-06-15', Age=68),\n",
       "  Row(customer_Id='268159', DOB=datetime.date(1970, 1, 8), Gender='F', city_code='8', DOB_New='1955-06-15', Age=68),\n",
       "  Row(customer_Id='270181', DOB=datetime.date(1970, 1, 10), Gender='F', city_code='2', DOB_New='1955-06-15', Age=68),\n",
       "  Row(customer_Id='268073', DOB=datetime.date(1970, 1, 11), Gender='M', city_code='1', DOB_New='1955-06-15', Age=68)],\n",
       " [Row(customer_Id='274474', DOB=datetime.date(1992, 12, 19), Gender='M', city_code='2', DOB_New='2007-06-15', Age=16),\n",
       "  Row(customer_Id='267666', DOB=datetime.date(1992, 12, 24), Gender='M', city_code='6', DOB_New='2007-06-15', Age=16),\n",
       "  Row(customer_Id='270476', DOB=datetime.date(1992, 12, 25), Gender='F', city_code='3', DOB_New='2007-06-15', Age=16),\n",
       "  Row(customer_Id='269626', DOB=datetime.date(1992, 12, 27), Gender='F', city_code='5', DOB_New='2007-06-15', Age=16),\n",
       "  Row(customer_Id='274308', DOB=datetime.date(1992, 12, 29), Gender='F', city_code='5', DOB_New='2007-06-15', Age=16)])"
      ]
     },
     "execution_count": 27,
     "metadata": {},
     "output_type": "execute_result"
    }
   ],
   "source": [
    "df_customer.head(5),df_customer.tail(5)"
   ]
  },
  {
   "cell_type": "markdown",
   "id": "dfacd0b4",
   "metadata": {},
   "source": [
    "__2.1.2 Age_Category__"
   ]
  },
  {
   "cell_type": "code",
   "execution_count": 28,
   "id": "a71185ed",
   "metadata": {},
   "outputs": [],
   "source": [
    "df_customer = df_customer.withColumn('Age_Category', \n",
    "                       when(col('Age') < 19, \"Temprana Edad\")\n",
    "                       .when(col(\"Age\").between(19,60), \"Mediana Edad\")\n",
    "                       .otherwise(\"Vejez\")\n",
    "                      )"
   ]
  },
  {
   "cell_type": "code",
   "execution_count": 29,
   "id": "aa5c4f22",
   "metadata": {},
   "outputs": [
    {
     "name": "stdout",
     "output_type": "stream",
     "text": [
      "+-----------+----------+------+---------+----------+---+------------+\n",
      "|customer_Id|       DOB|Gender|city_code|   DOB_New|Age|Age_Category|\n",
      "+-----------+----------+------+---------+----------+---+------------+\n",
      "|     268408|1970-01-02|     M|        4|1955-06-15| 68|       Vejez|\n",
      "|     269696|1970-01-07|     F|        8|1955-06-15| 68|       Vejez|\n",
      "|     268159|1970-01-08|     F|        8|1955-06-15| 68|       Vejez|\n",
      "|     270181|1970-01-10|     F|        2|1955-06-15| 68|       Vejez|\n",
      "|     268073|1970-01-11|     M|        1|1955-06-15| 68|       Vejez|\n",
      "+-----------+----------+------+---------+----------+---+------------+\n",
      "only showing top 5 rows\n",
      "\n"
     ]
    }
   ],
   "source": [
    "df_customer.show(5)"
   ]
  },
  {
   "cell_type": "markdown",
   "id": "3143c213",
   "metadata": {},
   "source": [
    "#### 2.1.3 City_Code:\n",
    "- Asignar valores en texto a estos Ids."
   ]
  },
  {
   "cell_type": "code",
   "execution_count": 33,
   "id": "be733ebc",
   "metadata": {},
   "outputs": [
    {
     "name": "stdout",
     "output_type": "stream",
     "text": [
      "+---------+\n",
      "|city_code|\n",
      "+---------+\n",
      "|        7|\n",
      "|        3|\n",
      "|        8|\n",
      "|     null|\n",
      "|        5|\n",
      "|        6|\n",
      "|        9|\n",
      "|        1|\n",
      "|       10|\n",
      "|        4|\n",
      "|        2|\n",
      "+---------+\n",
      "\n"
     ]
    }
   ],
   "source": [
    "df_customer.select(\"city_code\").distinct().show()\n",
    "# Tenemos:\n",
    "# 1,2,3,4,5,6,7,8,9,10"
   ]
  },
  {
   "cell_type": "code",
   "execution_count": 37,
   "id": "233f2b35",
   "metadata": {},
   "outputs": [],
   "source": [
    "df_customer = df_customer.withColumn('City_Name', \n",
    "                       when(col('city_code') == 1, \"Ciudad 1\")\n",
    "                       .when(col(\"city_code\") == 2, \"Ciudad 2\")\n",
    "                       .when(col(\"city_code\") == 3, \"Ciudad 3\")\n",
    "                       .when(col(\"city_code\") == 4, \"Ciudad 4\")\n",
    "                       .when(col(\"city_code\") == 5, \"Ciudad 5\")\n",
    "                       .when(col(\"city_code\") == 6, \"Ciudad 6\")\n",
    "                       .when(col(\"city_code\") == 7, \"Ciudad 7\")\n",
    "                       .when(col(\"city_code\") == 8, \"Ciudad 8\")\n",
    "                       .when(col(\"city_code\") == 9, \"Ciudad 9\")\n",
    "                       .otherwise(\"Ciudad 10\")\n",
    "                      )"
   ]
  },
  {
   "cell_type": "code",
   "execution_count": 38,
   "id": "695e5fa6",
   "metadata": {},
   "outputs": [
    {
     "name": "stdout",
     "output_type": "stream",
     "text": [
      "+-----------+----------+------+---------+----------+---+------------+---------+\n",
      "|customer_Id|       DOB|Gender|city_code|   DOB_New|Age|Age_Category|City_Name|\n",
      "+-----------+----------+------+---------+----------+---+------------+---------+\n",
      "|     268408|1970-01-02|     M|        4|1955-06-15| 68|       Vejez| Ciudad 4|\n",
      "|     269696|1970-01-07|     F|        8|1955-06-15| 68|       Vejez| Ciudad 8|\n",
      "|     268159|1970-01-08|     F|        8|1955-06-15| 68|       Vejez| Ciudad 8|\n",
      "|     270181|1970-01-10|     F|        2|1955-06-15| 68|       Vejez| Ciudad 2|\n",
      "|     268073|1970-01-11|     M|        1|1955-06-15| 68|       Vejez| Ciudad 1|\n",
      "|     273216|1970-01-15|     F|        5|1955-06-15| 68|       Vejez| Ciudad 5|\n",
      "|     266929|1970-01-15|     M|        8|1955-06-15| 68|       Vejez| Ciudad 8|\n",
      "|     275152|1970-01-16|     M|        4|1955-06-15| 68|       Vejez| Ciudad 4|\n",
      "|     275034|1970-01-18|     F|        4|1955-06-15| 68|       Vejez| Ciudad 4|\n",
      "|     273966|1970-01-21|     M|        8|1955-06-15| 68|       Vejez| Ciudad 8|\n",
      "|     270829|1970-01-22|     F|        8|1955-06-15| 68|       Vejez| Ciudad 8|\n",
      "|     266997|1970-01-23|     M|        9|1955-06-15| 68|       Vejez| Ciudad 9|\n",
      "|     272455|1970-01-25|     M|        7|1955-06-15| 68|       Vejez| Ciudad 7|\n",
      "|     274593|1970-01-26|     M|       10|1955-06-15| 68|       Vejez|Ciudad 10|\n",
      "|     273391|1970-01-29|     F|        2|1955-06-15| 68|       Vejez| Ciudad 2|\n",
      "|     267657|1970-01-29|     F|        7|1955-06-15| 68|       Vejez| Ciudad 7|\n",
      "|     271344|1970-01-29|     F|        5|1955-06-15| 68|       Vejez| Ciudad 5|\n",
      "|     268275|1970-02-01|     F|        7|1955-06-15| 68|       Vejez| Ciudad 7|\n",
      "|     274630|1970-02-01|     M|        4|1955-06-15| 68|       Vejez| Ciudad 4|\n",
      "|     273541|1970-02-01|     M|        4|1955-06-15| 68|       Vejez| Ciudad 4|\n",
      "+-----------+----------+------+---------+----------+---+------------+---------+\n",
      "only showing top 20 rows\n",
      "\n"
     ]
    }
   ],
   "source": [
    "df_customer.show()"
   ]
  },
  {
   "cell_type": "markdown",
   "id": "8ca6c070",
   "metadata": {},
   "source": [
    "## 3. Joins.\n",
    "- Vamos a crear una 'master table', uniendo las 3 bases de datos que tenemos.\n",
    "- Lo que más me interesa son los datos de venta, por lo tanto, unire a esta la información que se encuentra en las tablas del catalogo de productos (df_prods) y la información de los clientes (df_customer).\n",
    "- Así que, los joins van a ser con base a los registros de df_transactions, que es donde estan todos los registros de ventas."
   ]
  },
  {
   "cell_type": "code",
   "execution_count": 39,
   "id": "af3f5720",
   "metadata": {},
   "outputs": [
    {
     "name": "stdout",
     "output_type": "stream",
     "text": [
      "+--------------+-------+----------+----------------+-------------+---+----+------+---------+----------+\n",
      "|transaction_id|cust_id| tran_date|prod_subcat_code|prod_cat_code|Qty|Rate|   Tax|total_amt|Store_type|\n",
      "+--------------+-------+----------+----------------+-------------+---+----+------+---------+----------+\n",
      "|   40128462174| 273020|2014-02-03|               1|            2|  2|1362|286.02|  3010.02|    e-Shop|\n",
      "|   13844622404| 271302|2014-01-11|               3|            1|  2| 923|193.83|  2039.83|    e-Shop|\n",
      "+--------------+-------+----------+----------------+-------------+---+----+------+---------+----------+\n",
      "only showing top 2 rows\n",
      "\n",
      "+-------------+--------+-----------------+-----------+\n",
      "|prod_cat_code|prod_cat|prod_sub_cat_code|prod_subcat|\n",
      "+-------------+--------+-----------------+-----------+\n",
      "|            1|Clothing|                4|       Mens|\n",
      "|            1|Clothing|                1|      Women|\n",
      "+-------------+--------+-----------------+-----------+\n",
      "only showing top 2 rows\n",
      "\n",
      "+-----------+----------+------+---------+----------+---+------------+---------+\n",
      "|customer_Id|       DOB|Gender|city_code|   DOB_New|Age|Age_Category|City_Name|\n",
      "+-----------+----------+------+---------+----------+---+------------+---------+\n",
      "|     268408|1970-01-02|     M|        4|1955-06-15| 68|       Vejez| Ciudad 4|\n",
      "|     269696|1970-01-07|     F|        8|1955-06-15| 68|       Vejez| Ciudad 8|\n",
      "+-----------+----------+------+---------+----------+---+------------+---------+\n",
      "only showing top 2 rows\n",
      "\n"
     ]
    }
   ],
   "source": [
    "df_transactions.show(2)\n",
    "df_prods.show(2)\n",
    "df_customer.show(2)"
   ]
  },
  {
   "cell_type": "markdown",
   "id": "10102da9",
   "metadata": {},
   "source": [
    "#### 3.1 Tabla de Ventas con Tabla de Clientes"
   ]
  },
  {
   "cell_type": "code",
   "execution_count": 40,
   "id": "25530a26",
   "metadata": {},
   "outputs": [],
   "source": [
    "# Asignamos alias para poder seleccionar solo las columnas deseadas y asi evitar columnas duplicadas.\n",
    "df_transactions_1 = df_transactions.alias(\"a\").join(df_customer.alias(\"b\"),df_transactions.cust_id == df_customer.customer_Id,\"left\")\\\n",
    "    .select(\"a.*\",\"b.Gender\",\"b.city_code\",\"b.Age\",\"b.Age_Category\", \"b.City_Name\")"
   ]
  },
  {
   "cell_type": "markdown",
   "id": "43bd473d",
   "metadata": {},
   "source": [
    "#### 3.2 Tabla de Ventas+Clientes con Tabla del Catalogo de Productos"
   ]
  },
  {
   "cell_type": "code",
   "execution_count": 42,
   "id": "ccae050f",
   "metadata": {},
   "outputs": [],
   "source": [
    "df_transactions_2 = df_transactions_1.alias(\"a\").join(df_prods.alias(\"b\"),df_transactions.prod_cat_code == df_prods.prod_cat_code,\"left\")\\\n",
    "    .select(\"a.*\",\"b.prod_cat\",\"b.prod_subcat\")"
   ]
  },
  {
   "cell_type": "code",
   "execution_count": 43,
   "id": "ac22fb66",
   "metadata": {},
   "outputs": [
    {
     "name": "stdout",
     "output_type": "stream",
     "text": [
      "root\n",
      " |-- transaction_id: string (nullable = true)\n",
      " |-- cust_id: string (nullable = true)\n",
      " |-- tran_date: date (nullable = true)\n",
      " |-- prod_subcat_code: string (nullable = true)\n",
      " |-- prod_cat_code: string (nullable = true)\n",
      " |-- Qty: string (nullable = true)\n",
      " |-- Rate: string (nullable = true)\n",
      " |-- Tax: string (nullable = true)\n",
      " |-- total_amt: string (nullable = true)\n",
      " |-- Store_type: string (nullable = true)\n",
      " |-- Gender: string (nullable = true)\n",
      " |-- city_code: string (nullable = true)\n",
      " |-- Age: integer (nullable = true)\n",
      " |-- Age_Category: string (nullable = true)\n",
      " |-- City_Name: string (nullable = true)\n",
      " |-- prod_cat: string (nullable = true)\n",
      " |-- prod_subcat: string (nullable = true)\n",
      "\n"
     ]
    }
   ],
   "source": [
    "df_transactions_2.printSchema()\n",
    "# Aca se ven las columnas integradas."
   ]
  },
  {
   "cell_type": "markdown",
   "id": "aef7a8cf",
   "metadata": {},
   "source": [
    "__3.3 Después de los joins, hay nulos?__"
   ]
  },
  {
   "cell_type": "code",
   "execution_count": 44,
   "id": "f01bdb1f",
   "metadata": {},
   "outputs": [
    {
     "name": "stdout",
     "output_type": "stream",
     "text": [
      "+--------------+-------+---------+----------------+-------------+---+----+---+---------+----------+------+---------+---+------------+---------+--------+-----------+\n",
      "|transaction_id|cust_id|tran_date|prod_subcat_code|prod_cat_code|Qty|Rate|Tax|total_amt|Store_type|Gender|city_code|Age|Age_Category|City_Name|prod_cat|prod_subcat|\n",
      "+--------------+-------+---------+----------------+-------------+---+----+---+---------+----------+------+---------+---+------------+---------+--------+-----------+\n",
      "|             0|      0|        0|               0|            0|  0|   0|  0|        0|         0|    40|       36|  0|           0|        0|       0|          0|\n",
      "+--------------+-------+---------+----------------+-------------+---+----+---+---------+----------+------+---------+---+------------+---------+--------+-----------+\n",
      "\n"
     ]
    }
   ],
   "source": [
    "df_transactions_2.select([count(when(col(c).isNull(), c)).alias(c) for c in df_transactions_2.columns]).show()"
   ]
  },
  {
   "cell_type": "markdown",
   "id": "43dcfa02",
   "metadata": {},
   "source": [
    "Nulos en city_code y Gender, como en un principio vimos. Ahora si eliminaremos esos registros para no crear problemas al momento de crear agrupaciones y el archivo final para el dashboard."
   ]
  },
  {
   "cell_type": "code",
   "execution_count": 45,
   "id": "baa37102",
   "metadata": {},
   "outputs": [
    {
     "name": "stdout",
     "output_type": "stream",
     "text": [
      "99237\n",
      "99161\n"
     ]
    }
   ],
   "source": [
    "print(df_transactions_2.count())\n",
    "df_transactions_2 = df_transactions_2.na.drop()\n",
    "print(df_transactions_2.count())"
   ]
  },
  {
   "cell_type": "markdown",
   "id": "eda62a85",
   "metadata": {},
   "source": [
    "Listo! Tenemos una master table. Ahora podemos realizar queries para encontrar cosas interesantes."
   ]
  },
  {
   "cell_type": "markdown",
   "id": "98c7da9d",
   "metadata": {},
   "source": [
    "## 4. Análisis:\n",
    "- Esta sección será dedicada a principalmente realizar agrupaciones y categorizaciones para generar conocimiento con base en la información que tenemos."
   ]
  },
  {
   "cell_type": "markdown",
   "id": "781514fc",
   "metadata": {},
   "source": [
    "### 4.0 Master Table final filtrada"
   ]
  },
  {
   "cell_type": "code",
   "execution_count": 46,
   "id": "35678093",
   "metadata": {},
   "outputs": [],
   "source": [
    "df_transactions_f = df_transactions_2[['tran_date','cust_id','prod_cat','prod_subcat','Qty','Rate','Tax','total_amt','Store_type','Gender',\n",
    "                  'city_code','Age','Age_Category', 'City_Name']]"
   ]
  },
  {
   "cell_type": "code",
   "execution_count": 47,
   "id": "6144f10c",
   "metadata": {},
   "outputs": [
    {
     "name": "stdout",
     "output_type": "stream",
     "text": [
      "+----------+-------+--------+-----------+---+----+------+---------+----------+------+---------+---+-------------+---------+\n",
      "| tran_date|cust_id|prod_cat|prod_subcat|Qty|Rate|   Tax|total_amt|Store_type|Gender|city_code|Age| Age_Category|City_Name|\n",
      "+----------+-------+--------+-----------+---+----+------+---------+----------+------+---------+---+-------------+---------+\n",
      "|2014-02-03| 273020|Footwear|       Kids|  2|1362|286.02|  3010.02|    e-Shop|     M|        5| 16|Temprana Edad| Ciudad 5|\n",
      "|2014-02-03| 273020|Footwear|      Women|  2|1362|286.02|  3010.02|    e-Shop|     M|        5| 16|Temprana Edad| Ciudad 5|\n",
      "|2014-02-03| 273020|Footwear|       Mens|  2|1362|286.02|  3010.02|    e-Shop|     M|        5| 16|Temprana Edad| Ciudad 5|\n",
      "|2014-01-11| 271302|Clothing|       Kids|  2| 923|193.83|  2039.83|    e-Shop|     M|        1| 16|Temprana Edad| Ciudad 1|\n",
      "|2014-01-11| 271302|Clothing|      Women|  2| 923|193.83|  2039.83|    e-Shop|     M|        1| 16|Temprana Edad| Ciudad 1|\n",
      "+----------+-------+--------+-----------+---+----+------+---------+----------+------+---------+---+-------------+---------+\n",
      "only showing top 5 rows\n",
      "\n"
     ]
    }
   ],
   "source": [
    "df_transactions_f.show(5)"
   ]
  },
  {
   "cell_type": "markdown",
   "id": "edc518f9",
   "metadata": {},
   "source": [
    "### 4.1 Ventas Totales Mensuales"
   ]
  },
  {
   "cell_type": "code",
   "execution_count": 48,
   "id": "cb540c3f",
   "metadata": {},
   "outputs": [
    {
     "name": "stdout",
     "output_type": "stream",
     "text": [
      "+----------+-------+--------+-----------+---+----+------+---------+----------+------+---------+---+-------------+---------+-------+\n",
      "| tran_date|cust_id|prod_cat|prod_subcat|Qty|Rate|   Tax|total_amt|Store_type|Gender|city_code|Age| Age_Category|City_Name|     YM|\n",
      "+----------+-------+--------+-----------+---+----+------+---------+----------+------+---------+---+-------------+---------+-------+\n",
      "|2014-02-03| 273020|Footwear|       Kids|  2|1362|286.02|  3010.02|    e-Shop|     M|        5| 16|Temprana Edad| Ciudad 5|2014-02|\n",
      "|2014-02-03| 273020|Footwear|      Women|  2|1362|286.02|  3010.02|    e-Shop|     M|        5| 16|Temprana Edad| Ciudad 5|2014-02|\n",
      "+----------+-------+--------+-----------+---+----+------+---------+----------+------+---------+---+-------------+---------+-------+\n",
      "only showing top 2 rows\n",
      "\n"
     ]
    }
   ],
   "source": [
    "df_transactions_f = df_transactions_f.withColumn(\"YM\", date_format(to_date(df_transactions_f.tran_date, 'yyyy-MM-dd'),'yyyy-MM'))\n",
    "df_transactions_f.show(2)"
   ]
  },
  {
   "cell_type": "code",
   "execution_count": 49,
   "id": "e4afc279",
   "metadata": {},
   "outputs": [],
   "source": [
    "df_transactions_f.createTempView('Master')"
   ]
  },
  {
   "cell_type": "code",
   "execution_count": 50,
   "id": "1c45ec4a",
   "metadata": {},
   "outputs": [],
   "source": [
    "query = \"SELECT YM as Fecha, round(sum(total_amt)) as Ventas from Master\\\n",
    "        GROUP BY Fecha\\\n",
    "        ORDER BY Fecha\""
   ]
  },
  {
   "cell_type": "code",
   "execution_count": 51,
   "id": "c1f56815",
   "metadata": {},
   "outputs": [
    {
     "name": "stdout",
     "output_type": "stream",
     "text": [
      "+-------+---------+\n",
      "|  Fecha|   Ventas|\n",
      "+-------+---------+\n",
      "|2011-01|1530794.0|\n",
      "|2011-02|4943032.0|\n",
      "|2011-03|5985670.0|\n",
      "|2011-04|5964267.0|\n",
      "|2011-05|5141492.0|\n",
      "|2011-06|5306149.0|\n",
      "|2011-07|5639165.0|\n",
      "|2011-08|5200621.0|\n",
      "|2011-09|6234628.0|\n",
      "|2011-10|6089592.0|\n",
      "|2011-11|6241230.0|\n",
      "|2011-12|5726659.0|\n",
      "|2012-01|5325797.0|\n",
      "|2012-02|5487791.0|\n",
      "|2012-03|6202447.0|\n",
      "|2012-04|5262395.0|\n",
      "|2012-05|5891762.0|\n",
      "|2012-06|5644567.0|\n",
      "|2012-07|5437883.0|\n",
      "|2012-08|5867489.0|\n",
      "+-------+---------+\n",
      "only showing top 20 rows\n",
      "\n"
     ]
    }
   ],
   "source": [
    "spark.sql(query).show()"
   ]
  },
  {
   "cell_type": "markdown",
   "id": "197abafa",
   "metadata": {},
   "source": [
    "- Podemos ver que los datos son desde julio 2012 hasta febrero 2014.\n",
    "- En general las ventas mensuales tienen normalidad, a excepeción de este punto:\n",
    "    - 2011-01: ni siquiera se llego a vender 2 millones, todos los demás meses se vende más de 4.9 millones."
   ]
  },
  {
   "cell_type": "markdown",
   "id": "642d6791",
   "metadata": {},
   "source": [
    "### 4.2 Ventas Totales por distintas agregaciones"
   ]
  },
  {
   "cell_type": "markdown",
   "id": "5da01624",
   "metadata": {},
   "source": [
    "#### 4.2.1 Categorías y Subcategorías"
   ]
  },
  {
   "cell_type": "code",
   "execution_count": 52,
   "id": "15764cfb",
   "metadata": {},
   "outputs": [
    {
     "name": "stdout",
     "output_type": "stream",
     "text": [
      "+----------------+-----------+\n",
      "|       Categoria|     Ventas|\n",
      "+----------------+-----------+\n",
      "|           Books|7.6917746E7|\n",
      "|     Electronics|5.3600821E7|\n",
      "|Home and kitchen|3.3742992E7|\n",
      "|        Clothing|1.8752491E7|\n",
      "|        Footwear|1.8670067E7|\n",
      "|            Bags|  8252158.0|\n",
      "+----------------+-----------+\n",
      "\n"
     ]
    }
   ],
   "source": [
    "query = \"SELECT prod_cat as Categoria, round(sum(total_amt)) as Ventas from Master\\\n",
    "        GROUP BY Categoria\\\n",
    "        ORDER BY Ventas DESC\"\n",
    "\n",
    "spark.sql(query).show(25)"
   ]
  },
  {
   "cell_type": "code",
   "execution_count": 53,
   "id": "c07330e4",
   "metadata": {},
   "outputs": [
    {
     "name": "stdout",
     "output_type": "stream",
     "text": [
      "+----------------+-------------------+-----------+\n",
      "|       Categoria|       Subcategoria|     Ventas|\n",
      "+----------------+-------------------+-----------+\n",
      "|           Books|           Children|1.2819624E7|\n",
      "|           Books|            Fiction|1.2819624E7|\n",
      "|           Books|                DIY|1.2819624E7|\n",
      "|           Books|             Comics|1.2819624E7|\n",
      "|           Books|        Non-Fiction|1.2819624E7|\n",
      "|           Books|           Academic|1.2819624E7|\n",
      "|     Electronics|            Cameras|1.0720164E7|\n",
      "|     Electronics|    Audio and video|1.0720164E7|\n",
      "|     Electronics|            Mobiles|1.0720164E7|\n",
      "|     Electronics|          Computers|1.0720164E7|\n",
      "|     Electronics|Personal Appliances|1.0720164E7|\n",
      "|Home and kitchen|              Tools|  8435748.0|\n",
      "|Home and kitchen|         Furnishing|  8435748.0|\n",
      "|Home and kitchen|            Kitchen|  8435748.0|\n",
      "|Home and kitchen|               Bath|  8435748.0|\n",
      "|        Clothing|               Mens|  6250830.0|\n",
      "|        Clothing|              Women|  6250830.0|\n",
      "|        Clothing|               Kids|  6250830.0|\n",
      "|        Footwear|               Kids|  6223356.0|\n",
      "|        Footwear|               Mens|  6223356.0|\n",
      "|        Footwear|              Women|  6223356.0|\n",
      "|            Bags|               Mens|  4126079.0|\n",
      "|            Bags|              Women|  4126079.0|\n",
      "+----------------+-------------------+-----------+\n",
      "\n"
     ]
    }
   ],
   "source": [
    "query = \"SELECT prod_cat as Categoria, prod_subcat as Subcategoria, round(sum(total_amt)) as Ventas from Master\\\n",
    "        GROUP BY Categoria, Subcategoria\\\n",
    "        ORDER BY Ventas DESC\"\n",
    "\n",
    "spark.sql(query).show(25)"
   ]
  },
  {
   "cell_type": "code",
   "execution_count": 54,
   "id": "1f0cc4cb",
   "metadata": {},
   "outputs": [
    {
     "name": "stdout",
     "output_type": "stream",
     "text": [
      "+-----------+\n",
      "|     Ventas|\n",
      "+-----------+\n",
      "|1.2819624E7|\n",
      "+-----------+\n",
      "\n"
     ]
    }
   ],
   "source": [
    "query = \"SELECT round(sum(total_amt)) as Ventas from Master\\\n",
    "        WHERE prod_cat = 'Books' AND prod_subcat = 'Children'\"\n",
    "spark.sql(query).show()"
   ]
  },
  {
   "cell_type": "code",
   "execution_count": 55,
   "id": "cc1a642c",
   "metadata": {},
   "outputs": [
    {
     "name": "stdout",
     "output_type": "stream",
     "text": [
      "+-----------+\n",
      "|     Ventas|\n",
      "+-----------+\n",
      "|1.2819624E7|\n",
      "+-----------+\n",
      "\n"
     ]
    }
   ],
   "source": [
    "query = \"SELECT round(sum(total_amt)) as Ventas from Master\\\n",
    "        WHERE prod_cat = 'Books' AND prod_subcat = 'Fiction'\"\n",
    "spark.sql(query).show()"
   ]
  },
  {
   "cell_type": "markdown",
   "id": "4e8c8293",
   "metadata": {},
   "source": [
    "- La categoría de Libros es la que tiene más ventas en todas sus subcategorías también.\n",
    "- Seguida de la categoría de Electrónica.\n",
    "- En último lugar tenemos a las Bolsas."
   ]
  },
  {
   "cell_type": "markdown",
   "id": "44f550c1",
   "metadata": {},
   "source": [
    "#### 4.2.2 Tipo de tienda"
   ]
  },
  {
   "cell_type": "code",
   "execution_count": 56,
   "id": "857d71c2",
   "metadata": {},
   "outputs": [
    {
     "name": "stdout",
     "output_type": "stream",
     "text": [
      "+----------------+-----------+\n",
      "|Tipo_de_Comercio|     Ventas|\n",
      "+----------------+-----------+\n",
      "|          e-Shop| 8.597055E7|\n",
      "|  Flagship store|4.1914909E7|\n",
      "|             MBR|4.1667139E7|\n",
      "|        TeleShop|4.0383676E7|\n",
      "+----------------+-----------+\n",
      "\n"
     ]
    }
   ],
   "source": [
    "query = \"SELECT Store_type as Tipo_de_Comercio, round(sum(total_amt)) as Ventas from Master\\\n",
    "        GROUP BY Tipo_de_Comercio\\\n",
    "        ORDER BY Ventas DESC\"\n",
    "\n",
    "spark.sql(query).show(25)"
   ]
  },
  {
   "cell_type": "markdown",
   "id": "1bfac3d1",
   "metadata": {},
   "source": [
    "- La mayoría de ventas ocurren en el esquema en línea."
   ]
  },
  {
   "cell_type": "markdown",
   "id": "2442091f",
   "metadata": {},
   "source": [
    "#### 4.2.3 Genero y Edades"
   ]
  },
  {
   "cell_type": "markdown",
   "id": "964f3096",
   "metadata": {},
   "source": [
    "¿Quién compra más las mujeres o los hombres?"
   ]
  },
  {
   "cell_type": "code",
   "execution_count": 57,
   "id": "32862d21",
   "metadata": {},
   "outputs": [
    {
     "name": "stdout",
     "output_type": "stream",
     "text": [
      "+------+------------+\n",
      "|Genero|      Ventas|\n",
      "+------+------------+\n",
      "|     M|1.08433503E8|\n",
      "|     F|1.01502771E8|\n",
      "+------+------------+\n",
      "\n"
     ]
    }
   ],
   "source": [
    "query = \"SELECT Gender as Genero, round(sum(total_amt)) as Ventas from Master\\\n",
    "        GROUP BY Genero\\\n",
    "        ORDER BY Ventas DESC\"\n",
    "\n",
    "spark.sql(query).show(25)"
   ]
  },
  {
   "cell_type": "markdown",
   "id": "ef37a4ca",
   "metadata": {},
   "source": [
    "- Casi lo mismo! Aunque esta vez los hombres ganan."
   ]
  },
  {
   "cell_type": "markdown",
   "id": "6a5eba92",
   "metadata": {},
   "source": [
    "¿Y dentro de los generos, quienes compran más? ¿Adultos, jóvenes o mediana edad?"
   ]
  },
  {
   "cell_type": "code",
   "execution_count": 58,
   "id": "36149714",
   "metadata": {},
   "outputs": [
    {
     "name": "stdout",
     "output_type": "stream",
     "text": [
      "+------+-------------+-----------+\n",
      "|Genero|         Edad|     Ventas|\n",
      "+------+-------------+-----------+\n",
      "|     M|Temprana Edad|5.3693775E7|\n",
      "|     F|Temprana Edad|5.0780957E7|\n",
      "|     M|        Vejez|2.8382889E7|\n",
      "|     M| Mediana Edad|2.6356839E7|\n",
      "|     F|        Vejez|2.5969996E7|\n",
      "|     F| Mediana Edad|2.4751818E7|\n",
      "+------+-------------+-----------+\n",
      "\n"
     ]
    }
   ],
   "source": [
    "query = \"SELECT Gender as Genero, Age_Category as Edad, round(sum(total_amt)) as Ventas from Master\\\n",
    "        GROUP BY Genero, Edad\\\n",
    "        ORDER BY Ventas DESC\"\n",
    "\n",
    "spark.sql(query).show(25)"
   ]
  },
  {
   "cell_type": "markdown",
   "id": "700665ed",
   "metadata": {},
   "source": [
    "- Sin importar el género, los jovenes de edad son los mejores compradores para este retail."
   ]
  },
  {
   "cell_type": "markdown",
   "id": "6ad1ad9f",
   "metadata": {},
   "source": [
    "#### 4.2.4 Ciudad:\n",
    "- Idealmente se tendría que haber usado no el código si no el nombre de las ciudades, pero no vienen desde el origen de los datos."
   ]
  },
  {
   "cell_type": "code",
   "execution_count": 59,
   "id": "4072f183",
   "metadata": {},
   "outputs": [
    {
     "name": "stdout",
     "output_type": "stream",
     "text": [
      "+---------+-----------+\n",
      "|   Ciudad|     Ventas|\n",
      "+---------+-----------+\n",
      "| Ciudad 3|2.2744245E7|\n",
      "| Ciudad 4|2.2361621E7|\n",
      "| Ciudad 5|2.1457588E7|\n",
      "| Ciudad 7|2.1360346E7|\n",
      "| Ciudad 2|2.1104847E7|\n",
      "|Ciudad 10| 2.085613E7|\n",
      "| Ciudad 8|2.0621868E7|\n",
      "| Ciudad 1|2.0558143E7|\n",
      "| Ciudad 9|2.0034979E7|\n",
      "| Ciudad 6|1.8836506E7|\n",
      "+---------+-----------+\n",
      "\n"
     ]
    }
   ],
   "source": [
    "query = \"SELECT City_Name as Ciudad, round(sum(total_amt)) as Ventas from Master\\\n",
    "        GROUP BY Ciudad\\\n",
    "        ORDER BY Ventas DESC\"\n",
    "\n",
    "spark.sql(query).show(25)"
   ]
  },
  {
   "cell_type": "markdown",
   "id": "a8c572fe",
   "metadata": {},
   "source": [
    "- La ciudad 3 es la que más ventas tiene."
   ]
  },
  {
   "cell_type": "markdown",
   "id": "04875e8d",
   "metadata": {},
   "source": [
    "Nota:\n",
    "- Importante también obtener este tipo de métricas con base a Unidades Vendidas y no solo Ventas."
   ]
  },
  {
   "cell_type": "markdown",
   "id": "8d092565",
   "metadata": {},
   "source": [
    "---\n",
    "---\n",
    "---\n",
    "Exportando datos a Excel para el dashboard."
   ]
  },
  {
   "cell_type": "code",
   "execution_count": 60,
   "id": "df8bb24a",
   "metadata": {},
   "outputs": [
    {
     "name": "stdout",
     "output_type": "stream",
     "text": [
      "+----------+-------+----------------+-------------------+---+-----+-------+---------+----------+------+---------+---+-------------+---------+-------+\n",
      "| tran_date|cust_id|        prod_cat|        prod_subcat|Qty| Rate|    Tax|total_amt|Store_type|Gender|city_code|Age| Age_Category|City_Name|     YM|\n",
      "+----------+-------+----------------+-------------------+---+-----+-------+---------+----------+------+---------+---+-------------+---------+-------+\n",
      "|2014-02-03| 273020|        Footwear|               Kids|  2| 1362| 286.02|  3010.02|    e-Shop|     M|        5| 16|Temprana Edad| Ciudad 5|2014-02|\n",
      "|2014-02-03| 273020|        Footwear|              Women|  2| 1362| 286.02|  3010.02|    e-Shop|     M|        5| 16|Temprana Edad| Ciudad 5|2014-02|\n",
      "|2014-02-03| 273020|        Footwear|               Mens|  2| 1362| 286.02|  3010.02|    e-Shop|     M|        5| 16|Temprana Edad| Ciudad 5|2014-02|\n",
      "|2014-01-11| 271302|        Clothing|               Kids|  2|  923| 193.83|  2039.83|    e-Shop|     M|        1| 16|Temprana Edad| Ciudad 1|2014-01|\n",
      "|2014-01-11| 271302|        Clothing|              Women|  2|  923| 193.83|  2039.83|    e-Shop|     M|        1| 16|Temprana Edad| Ciudad 1|2014-01|\n",
      "|2014-01-11| 271302|        Clothing|               Mens|  2|  923| 193.83|  2039.83|    e-Shop|     M|        1| 16|Temprana Edad| Ciudad 1|2014-01|\n",
      "|2013-12-21| 273016|           Books|                DIY|  5|  481|252.525| 2657.525|    e-Shop|     M|        3| 68|        Vejez| Ciudad 3|2013-12|\n",
      "|2013-12-21| 273016|           Books|             Comics|  5|  481|252.525| 2657.525|    e-Shop|     M|        3| 68|        Vejez| Ciudad 3|2013-12|\n",
      "|2013-12-21| 273016|           Books|           Children|  5|  481|252.525| 2657.525|    e-Shop|     M|        3| 68|        Vejez| Ciudad 3|2013-12|\n",
      "|2013-12-21| 273016|           Books|        Non-Fiction|  5|  481|252.525| 2657.525|    e-Shop|     M|        3| 68|        Vejez| Ciudad 3|2013-12|\n",
      "|2013-12-21| 273016|           Books|           Academic|  5|  481|252.525| 2657.525|    e-Shop|     M|        3| 68|        Vejez| Ciudad 3|2013-12|\n",
      "|2013-12-21| 273016|           Books|            Fiction|  5|  481|252.525| 2657.525|    e-Shop|     M|        3| 68|        Vejez| Ciudad 3|2013-12|\n",
      "|2013-12-01| 272580|Home and kitchen|              Tools| -2|-1075| 225.75| -2375.75|  TeleShop|     M|        7| 16|Temprana Edad| Ciudad 7|2013-12|\n",
      "|2013-12-01| 272580|Home and kitchen|               Bath| -2|-1075| 225.75| -2375.75|  TeleShop|     M|        7| 16|Temprana Edad| Ciudad 7|2013-12|\n",
      "|2013-12-01| 272580|Home and kitchen|            Kitchen| -2|-1075| 225.75| -2375.75|  TeleShop|     M|        7| 16|Temprana Edad| Ciudad 7|2013-12|\n",
      "|2013-12-01| 272580|Home and kitchen|         Furnishing| -2|-1075| 225.75| -2375.75|  TeleShop|     M|        7| 16|Temprana Edad| Ciudad 7|2013-12|\n",
      "|2013-11-30| 274559|     Electronics|    Audio and video|  3|  250|  78.75|   828.75|    e-Shop|     F|        9| 16|Temprana Edad| Ciudad 9|2013-11|\n",
      "|2013-11-30| 274559|     Electronics|            Cameras|  3|  250|  78.75|   828.75|    e-Shop|     F|        9| 16|Temprana Edad| Ciudad 9|2013-11|\n",
      "|2013-11-30| 274559|     Electronics|Personal Appliances|  3|  250|  78.75|   828.75|    e-Shop|     F|        9| 16|Temprana Edad| Ciudad 9|2013-11|\n",
      "|2013-11-30| 274559|     Electronics|          Computers|  3|  250|  78.75|   828.75|    e-Shop|     F|        9| 16|Temprana Edad| Ciudad 9|2013-11|\n",
      "+----------+-------+----------------+-------------------+---+-----+-------+---------+----------+------+---------+---+-------------+---------+-------+\n",
      "only showing top 20 rows\n",
      "\n"
     ]
    }
   ],
   "source": [
    "df_transactions_f.show()"
   ]
  },
  {
   "cell_type": "code",
   "execution_count": 61,
   "id": "9059eb1f",
   "metadata": {},
   "outputs": [],
   "source": [
    "import pandas as pd"
   ]
  },
  {
   "cell_type": "code",
   "execution_count": 62,
   "id": "d7878ef2",
   "metadata": {},
   "outputs": [],
   "source": [
    "# Converting spark dataframe to pandas dataframe\n",
    "pandas_df = df_transactions_f.toPandas()"
   ]
  },
  {
   "cell_type": "code",
   "execution_count": 63,
   "id": "54ebc866",
   "metadata": {},
   "outputs": [
    {
     "data": {
      "text/plain": [
       "(99161, 15)"
      ]
     },
     "execution_count": 63,
     "metadata": {},
     "output_type": "execute_result"
    }
   ],
   "source": [
    "pandas_df.shape"
   ]
  },
  {
   "cell_type": "code",
   "execution_count": 64,
   "id": "374df4e3",
   "metadata": {},
   "outputs": [],
   "source": [
    "# Exporting pandas dataframe to xlsx file\n",
    "pandas_df.to_excel('3B_test.xlsx', index=False)"
   ]
  }
 ],
 "metadata": {
  "kernelspec": {
   "display_name": "Python 3 (ipykernel)",
   "language": "python",
   "name": "python3"
  },
  "language_info": {
   "codemirror_mode": {
    "name": "ipython",
    "version": 3
   },
   "file_extension": ".py",
   "mimetype": "text/x-python",
   "name": "python",
   "nbconvert_exporter": "python",
   "pygments_lexer": "ipython3",
   "version": "3.11.5"
  }
 },
 "nbformat": 4,
 "nbformat_minor": 5
}
